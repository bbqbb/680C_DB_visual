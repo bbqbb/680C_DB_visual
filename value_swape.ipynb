{
 "cells": [
  {
   "cell_type": "code",
   "execution_count": 1,
   "id": "20ddf49f",
   "metadata": {},
   "outputs": [],
   "source": [
    "import openpyxl"
   ]
  },
  {
   "cell_type": "code",
   "execution_count": 17,
   "id": "817d0240",
   "metadata": {},
   "outputs": [],
   "source": [
    "wb = openpyxl.load_workbook(\"T-Shirt.HD - Copy.xlsx\")\n",
    "sheet = wb['Trial-Run']"
   ]
  },
  {
   "cell_type": "code",
   "execution_count": 18,
   "id": "74e65331",
   "metadata": {},
   "outputs": [],
   "source": [
    "for row in sheet.iter_rows():\n",
    "    if row[25].value > row[26].value:\n",
    "        row[25].value, row[26].value = row[26].value, row[25].value"
   ]
  },
  {
   "cell_type": "code",
   "execution_count": 14,
   "id": "3391f475",
   "metadata": {},
   "outputs": [],
   "source": [
    "for row in sheet.iter_rows():\n",
    "    for i in range(23, 33):\n",
    "        if not row[i].value:\n",
    "            row[i].value = 0\n"
   ]
  },
  {
   "cell_type": "code",
   "execution_count": 19,
   "id": "35da447e",
   "metadata": {},
   "outputs": [],
   "source": [
    "wb.save(\"T-Shirt.HD - Copy.xlsx\")"
   ]
  },
  {
   "cell_type": "code",
   "execution_count": 16,
   "id": "b3c97745",
   "metadata": {},
   "outputs": [
    {
     "data": {
      "text/plain": [
       "[<openpyxl.workbook.views.BookView object>\n",
       " Parameters:\n",
       " visibility='visible', minimized=False, showHorizontalScroll=True, showVerticalScroll=True, showSheetTabs=True, xWindow=0, yWindow=0, windowWidth=19176, windowHeight=7992, tabRatio=600, firstSheet=0, activeTab=1, autoFilterDateGrouping=True]"
      ]
     },
     "execution_count": 16,
     "metadata": {},
     "output_type": "execute_result"
    }
   ],
   "source": [
    "wb.views"
   ]
  },
  {
   "cell_type": "code",
   "execution_count": null,
   "id": "dc74b548",
   "metadata": {},
   "outputs": [],
   "source": []
  }
 ],
 "metadata": {
  "kernelspec": {
   "display_name": "Python 3 (ipykernel)",
   "language": "python",
   "name": "python3"
  },
  "language_info": {
   "codemirror_mode": {
    "name": "ipython",
    "version": 3
   },
   "file_extension": ".py",
   "mimetype": "text/x-python",
   "name": "python",
   "nbconvert_exporter": "python",
   "pygments_lexer": "ipython3",
   "version": "3.10.5"
  },
  "varInspector": {
   "cols": {
    "lenName": 16,
    "lenType": 16,
    "lenVar": 40
   },
   "kernels_config": {
    "python": {
     "delete_cmd_postfix": "",
     "delete_cmd_prefix": "del ",
     "library": "var_list.py",
     "varRefreshCmd": "print(var_dic_list())"
    },
    "r": {
     "delete_cmd_postfix": ") ",
     "delete_cmd_prefix": "rm(",
     "library": "var_list.r",
     "varRefreshCmd": "cat(var_dic_list()) "
    }
   },
   "types_to_exclude": [
    "module",
    "function",
    "builtin_function_or_method",
    "instance",
    "_Feature"
   ],
   "window_display": false
  }
 },
 "nbformat": 4,
 "nbformat_minor": 5
}
