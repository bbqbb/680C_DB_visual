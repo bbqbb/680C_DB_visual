{
 "cells": [
  {
   "cell_type": "code",
   "execution_count": 35,
   "id": "e4d2c2ec",
   "metadata": {},
   "outputs": [],
   "source": [
    "import pandas as pd\n",
    "import openpyxl"
   ]
  },
  {
   "cell_type": "code",
   "execution_count": 44,
   "id": "0d678311",
   "metadata": {},
   "outputs": [],
   "source": [
    "df = pd.read_excel(\"T-Shirt.HD - Copy.xlsx\", sheet_name=\"Trial-Run\")"
   ]
  },
  {
   "cell_type": "code",
   "execution_count": 46,
   "id": "a6e7673e",
   "metadata": {},
   "outputs": [
    {
     "data": {
      "text/plain": [
       "0        57.25\n",
       "1       12.625\n",
       "2      12.1875\n",
       "3       57.875\n",
       "4       57.375\n",
       "        ...   \n",
       "703      57.25\n",
       "704       57.5\n",
       "705       54.5\n",
       "706      54.25\n",
       "707      54.25\n",
       "Name: Layflat, Length: 708, dtype: object"
      ]
     },
     "execution_count": 46,
     "metadata": {},
     "output_type": "execute_result"
    }
   ],
   "source": [
    "df.Layflat"
   ]
  },
  {
   "cell_type": "code",
   "execution_count": 47,
   "id": "0b4ca302",
   "metadata": {},
   "outputs": [
    {
     "data": {
      "text/plain": [
       "0      57.2500\n",
       "1      12.6250\n",
       "2      12.1875\n",
       "3      57.8750\n",
       "4      57.3750\n",
       "        ...   \n",
       "703    57.2500\n",
       "704    57.5000\n",
       "705    54.5000\n",
       "706    54.2500\n",
       "707    54.2500\n",
       "Name: Layflat, Length: 708, dtype: float64"
      ]
     },
     "execution_count": 47,
     "metadata": {},
     "output_type": "execute_result"
    }
   ],
   "source": [
    "try:\n",
    "    df.Layflat = df.Layflat.astype(float)\n",
    "except:\n",
    "    df.Layflat = pd.to_numeric(df.Layflat, errors='coerce').fillna(0).astype(float)\n",
    "df.Layflat"
   ]
  },
  {
   "cell_type": "code",
   "execution_count": 51,
   "id": "ae83d960",
   "metadata": {},
   "outputs": [
    {
     "data": {
      "text/plain": [
       "0      57.250\n",
       "1      12.625\n",
       "2      12.188\n",
       "3      57.875\n",
       "4      57.375\n",
       "        ...  \n",
       "703    57.250\n",
       "704    57.500\n",
       "705    54.500\n",
       "706    54.250\n",
       "707    54.250\n",
       "Name: Layflat, Length: 708, dtype: float64"
      ]
     },
     "execution_count": 51,
     "metadata": {},
     "output_type": "execute_result"
    }
   ],
   "source": [
    "df_round = df.Layflat.round(3)\n",
    "df_round"
   ]
  },
  {
   "cell_type": "code",
   "execution_count": 58,
   "id": "f936d5bf",
   "metadata": {},
   "outputs": [],
   "source": [
    "df.to_excel('update_layflat.xlsx')\n",
    "#create new xlsx file with plain style"
   ]
  },
  {
   "cell_type": "code",
   "execution_count": 36,
   "id": "26709404",
   "metadata": {},
   "outputs": [
    {
     "name": "stdout",
     "output_type": "stream",
     "text": [
      "max row before 709\n"
     ]
    }
   ],
   "source": [
    "wb = openpyxl.load_workbook(\"T-Shirt.HD - Copy.xlsx\")\n",
    "sheet = wb['Trial-Run']\n",
    "print(\"max row before\", sheet.max_row)\n",
    "column_list = []\n",
    "for i in sheet[1]:\n",
    "    column_list.append(i.value)"
   ]
  },
  {
   "cell_type": "code",
   "execution_count": 59,
   "id": "9eac771d",
   "metadata": {},
   "outputs": [
    {
     "data": {
      "text/plain": [
       "69.938"
      ]
     },
     "execution_count": 59,
     "metadata": {},
     "output_type": "execute_result"
    }
   ],
   "source": [
    "df_round.max()"
   ]
  },
  {
   "cell_type": "code",
   "execution_count": null,
   "id": "2a41fe41",
   "metadata": {},
   "outputs": [],
   "source": [
    " "
   ]
  }
 ],
 "metadata": {
  "kernelspec": {
   "display_name": "Python 3 (ipykernel)",
   "language": "python",
   "name": "python3"
  },
  "language_info": {
   "codemirror_mode": {
    "name": "ipython",
    "version": 3
   },
   "file_extension": ".py",
   "mimetype": "text/x-python",
   "name": "python",
   "nbconvert_exporter": "python",
   "pygments_lexer": "ipython3",
   "version": "3.10.5"
  },
  "varInspector": {
   "cols": {
    "lenName": 16,
    "lenType": 16,
    "lenVar": 40
   },
   "kernels_config": {
    "python": {
     "delete_cmd_postfix": "",
     "delete_cmd_prefix": "del ",
     "library": "var_list.py",
     "varRefreshCmd": "print(var_dic_list())"
    },
    "r": {
     "delete_cmd_postfix": ") ",
     "delete_cmd_prefix": "rm(",
     "library": "var_list.r",
     "varRefreshCmd": "cat(var_dic_list()) "
    }
   },
   "types_to_exclude": [
    "module",
    "function",
    "builtin_function_or_method",
    "instance",
    "_Feature"
   ],
   "window_display": false
  }
 },
 "nbformat": 4,
 "nbformat_minor": 5
}
