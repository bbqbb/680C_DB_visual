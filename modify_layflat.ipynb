{
 "cells": [
  {
   "cell_type": "code",
   "execution_count": 4,
   "id": "e4d2c2ec",
   "metadata": {},
   "outputs": [],
   "source": [
    "import pandas as pd\n",
    "import openpyxl"
   ]
  },
  {
   "cell_type": "code",
   "execution_count": 5,
   "id": "0d678311",
   "metadata": {},
   "outputs": [],
   "source": [
    "df = pd.read_excel(\"T-Shirt.HD - Copy.xlsx\", sheet_name=\"Trial-Run\")"
   ]
  },
  {
   "cell_type": "code",
   "execution_count": 6,
   "id": "a6e7673e",
   "metadata": {},
   "outputs": [
    {
     "data": {
      "text/plain": [
       "0      53.750\n",
       "1      56.500\n",
       "2      56.500\n",
       "3      57.500\n",
       "4      57.250\n",
       "        ...  \n",
       "703    12.625\n",
       "704    12.625\n",
       "705    12.625\n",
       "706    12.750\n",
       "707    12.750\n",
       "Name: Layflat, Length: 708, dtype: float64"
      ]
     },
     "execution_count": 6,
     "metadata": {},
     "output_type": "execute_result"
    }
   ],
   "source": [
    "df.Layflat"
   ]
  },
  {
   "cell_type": "code",
   "execution_count": 47,
   "id": "0b4ca302",
   "metadata": {},
   "outputs": [
    {
     "data": {
      "text/plain": [
       "0      57.2500\n",
       "1      12.6250\n",
       "2      12.1875\n",
       "3      57.8750\n",
       "4      57.3750\n",
       "        ...   \n",
       "703    57.2500\n",
       "704    57.5000\n",
       "705    54.5000\n",
       "706    54.2500\n",
       "707    54.2500\n",
       "Name: Layflat, Length: 708, dtype: float64"
      ]
     },
     "execution_count": 47,
     "metadata": {},
     "output_type": "execute_result"
    }
   ],
   "source": [
    "try:\n",
    "    df.Layflat = df.Layflat.astype(float)\n",
    "except:\n",
    "    df.Layflat = pd.to_numeric(df.Layflat, errors='coerce').fillna(0).astype(float)\n",
    "df.Layflat"
   ]
  },
  {
   "cell_type": "code",
   "execution_count": 51,
   "id": "ae83d960",
   "metadata": {},
   "outputs": [
    {
     "data": {
      "text/plain": [
       "0      57.250\n",
       "1      12.625\n",
       "2      12.188\n",
       "3      57.875\n",
       "4      57.375\n",
       "        ...  \n",
       "703    57.250\n",
       "704    57.500\n",
       "705    54.500\n",
       "706    54.250\n",
       "707    54.250\n",
       "Name: Layflat, Length: 708, dtype: float64"
      ]
     },
     "execution_count": 51,
     "metadata": {},
     "output_type": "execute_result"
    }
   ],
   "source": [
    "df_round = df.Layflat.round(3)\n",
    "df_round"
   ]
  },
  {
   "cell_type": "code",
   "execution_count": 58,
   "id": "f936d5bf",
   "metadata": {},
   "outputs": [],
   "source": [
    "df.to_excel('update_layflat.xlsx')\n",
    "#create new xlsx file with plain style"
   ]
  },
  {
   "cell_type": "code",
   "execution_count": 36,
   "id": "26709404",
   "metadata": {},
   "outputs": [
    {
     "name": "stdout",
     "output_type": "stream",
     "text": [
      "max row before 709\n"
     ]
    }
   ],
   "source": [
    "wb = openpyxl.load_workbook(\"T-Shirt.HD - Copy.xlsx\")\n",
    "sheet = wb['Trial-Run']\n",
    "print(\"max row before\", sheet.max_row)\n",
    "column_list = []\n",
    "for i in sheet[1]:\n",
    "    column_list.append(i.value)"
   ]
  },
  {
   "cell_type": "code",
   "execution_count": 59,
   "id": "9eac771d",
   "metadata": {},
   "outputs": [
    {
     "data": {
      "text/plain": [
       "69.938"
      ]
     },
     "execution_count": 59,
     "metadata": {},
     "output_type": "execute_result"
    }
   ],
   "source": [
    "df_round.max()"
   ]
  },
  {
   "cell_type": "code",
   "execution_count": 3,
   "id": "c52e9ff1",
   "metadata": {},
   "outputs": [],
   "source": [
    "lf_min =  5\n",
    "lf_max = 30"
   ]
  },
  {
   "cell_type": "code",
   "execution_count": 5,
   "id": "66361bd3",
   "metadata": {
    "scrolled": true
   },
   "outputs": [
    {
     "data": {
      "text/plain": [
       "0      57  3/16\n",
       "1      57  3/16\n",
       "2        57.125\n",
       "3            57\n",
       "4         57.25\n",
       "         ...   \n",
       "703     54.0625\n",
       "704       12.75\n",
       "705      12.625\n",
       "706     57.0625\n",
       "707       57.25\n",
       "Name: Layflat, Length: 708, dtype: object"
      ]
     },
     "execution_count": 5,
     "metadata": {},
     "output_type": "execute_result"
    }
   ],
   "source": [
    "df[\"Layflat\"]"
   ]
  },
  {
   "cell_type": "code",
   "execution_count": 1,
   "id": "c7795959",
   "metadata": {},
   "outputs": [],
   "source": [
    "#print error value \n",
    "def fraction_to_decimal(fraction_str):\n",
    "    try:\n",
    "        if type(fraction_str)==str:\n",
    "            _ = fraction_str.split(\"  \")\n",
    "            whole, frac = _[0], _[1]\n",
    "            frac_num, frac_denum = frac.split(\"/\")\n",
    "            return int(whole) + int(frac_num)/int(frac_denum)\n",
    "        elif type(fraction_str) == float or type(fraction_str) == int:\n",
    "            return fraction_str\n",
    "        else:\n",
    "            return 0\n",
    "    except ValueError:\n",
    "        print(fraction_str)\n",
    "# my_string = \"This    is a    string with      multiple   spaces\"\n",
    "# my_list = [word.strip() for word in my_string.split(\" \") if word.strip()]\n",
    "#take out all spaces"
   ]
  },
  {
   "cell_type": "code",
   "execution_count": 34,
   "id": "4b632f7f",
   "metadata": {},
   "outputs": [],
   "source": [
    "layflat = df[\"Layflat\"].apply(fraction_to_decimal)\n",
    "df[\"Layflat\"] = df[\"Layflat\"].apply(fraction_to_decimal)"
   ]
  },
  {
   "cell_type": "code",
   "execution_count": 25,
   "id": "faedf284",
   "metadata": {},
   "outputs": [
    {
     "data": {
      "text/plain": [
       "0      57.1875\n",
       "1      57.1875\n",
       "2      57.1250\n",
       "3      57.0000\n",
       "4      57.2500\n",
       "        ...   \n",
       "703    54.0625\n",
       "704    12.7500\n",
       "705    12.6250\n",
       "706    57.0625\n",
       "707    57.2500\n",
       "Name: Layflat, Length: 708, dtype: float64"
      ]
     },
     "execution_count": 25,
     "metadata": {},
     "output_type": "execute_result"
    }
   ],
   "source": [
    "layflat"
   ]
  },
  {
   "cell_type": "code",
   "execution_count": 29,
   "id": "461f9e45",
   "metadata": {},
   "outputs": [
    {
     "data": {
      "text/plain": [
       "0       True\n",
       "1       True\n",
       "2       True\n",
       "3       True\n",
       "4       True\n",
       "       ...  \n",
       "703     True\n",
       "704    False\n",
       "705    False\n",
       "706     True\n",
       "707     True\n",
       "Name: Layflat, Length: 708, dtype: bool"
      ]
     },
     "execution_count": 29,
     "metadata": {},
     "output_type": "execute_result"
    }
   ],
   "source": [
    "mask_lf = layflat > 20\n",
    "mask_lf"
   ]
  },
  {
   "cell_type": "code",
   "execution_count": 30,
   "id": "77f01d85",
   "metadata": {},
   "outputs": [],
   "source": [
    "filte_lf = df.Layflat[mask_lf]"
   ]
  },
  {
   "cell_type": "code",
   "execution_count": 31,
   "id": "40f31240",
   "metadata": {},
   "outputs": [
    {
     "data": {
      "text/plain": [
       "0      57  3/16\n",
       "1      57  3/16\n",
       "2        57.125\n",
       "3            57\n",
       "4         57.25\n",
       "         ...   \n",
       "700     53.9375\n",
       "701     57.0625\n",
       "703     54.0625\n",
       "706     57.0625\n",
       "707       57.25\n",
       "Name: Layflat, Length: 659, dtype: object"
      ]
     },
     "execution_count": 31,
     "metadata": {},
     "output_type": "execute_result"
    }
   ],
   "source": [
    "filte_lf"
   ]
  },
  {
   "cell_type": "code",
   "execution_count": 35,
   "id": "12b1cf8d",
   "metadata": {},
   "outputs": [
    {
     "data": {
      "text/plain": [
       "0      57.1875\n",
       "1      57.1875\n",
       "2      57.1250\n",
       "3      57.0000\n",
       "4      57.2500\n",
       "        ...   \n",
       "700    53.9375\n",
       "701    57.0625\n",
       "703    54.0625\n",
       "706    57.0625\n",
       "707    57.2500\n",
       "Name: Layflat, Length: 659, dtype: float64"
      ]
     },
     "execution_count": 35,
     "metadata": {},
     "output_type": "execute_result"
    }
   ],
   "source": [
    "filte_df = df.Layflat[mask_lf]\n",
    "filte_df"
   ]
  },
  {
   "cell_type": "code",
   "execution_count": 36,
   "id": "d41bad31",
   "metadata": {},
   "outputs": [
    {
     "data": {
      "text/plain": [
       "0      57.1875\n",
       "1      57.1875\n",
       "2      57.1250\n",
       "3      57.0000\n",
       "4      57.2500\n",
       "        ...   \n",
       "703    54.0625\n",
       "704    12.7500\n",
       "705    12.6250\n",
       "706    57.0625\n",
       "707    57.2500\n",
       "Name: Layflat, Length: 708, dtype: float64"
      ]
     },
     "execution_count": 36,
     "metadata": {},
     "output_type": "execute_result"
    }
   ],
   "source": [
    "df.Layflat"
   ]
  },
  {
   "cell_type": "code",
   "execution_count": 37,
   "id": "433a21b1",
   "metadata": {},
   "outputs": [],
   "source": [
    "df.to_excel('update_layflat.xlsx')"
   ]
  },
  {
   "cell_type": "code",
   "execution_count": 39,
   "id": "7abea3a6",
   "metadata": {},
   "outputs": [
    {
     "name": "stdout",
     "output_type": "stream",
     "text": [
      "<class 'pandas.core.series.Series'>\n"
     ]
    }
   ],
   "source": [
    "print(type(df.Layflat))"
   ]
  },
  {
   "cell_type": "code",
   "execution_count": 2,
   "id": "3f4bd6b4",
   "metadata": {},
   "outputs": [],
   "source": [
    "import openpyxl\n",
    "wb = openpyxl.load_workbook(\"T-Shirt.HD - Copy.xlsx\")\n",
    "sheet = wb['Trial-Run']"
   ]
  },
  {
   "cell_type": "code",
   "execution_count": 76,
   "id": "74ad67d7",
   "metadata": {},
   "outputs": [
    {
     "data": {
      "text/plain": [
       "57.25"
      ]
     },
     "execution_count": 76,
     "metadata": {},
     "output_type": "execute_result"
    }
   ],
   "source": [
    "sheet[709][15].value"
   ]
  },
  {
   "cell_type": "code",
   "execution_count": 54,
   "id": "32b63626",
   "metadata": {},
   "outputs": [],
   "source": [
    "df_lf_list = df.Layflat.tolist()\n",
    "for index, value in enumerate(df_lf_list):\n",
    "    sheet.cell(row=index+1, column = 15)\n",
    "wb.save('update_layflat.xlsx')"
   ]
  },
  {
   "cell_type": "code",
   "execution_count": 3,
   "id": "638895ad",
   "metadata": {},
   "outputs": [],
   "source": [
    "for i in range(sheet.max_row-1):\n",
    "    sheet[i+2][15].value = fraction_to_decimal(sheet[i+2][15].value)\n",
    "wb.save('T-Shirt.HD - Copy.xlsx')\n",
    "#works"
   ]
  },
  {
   "cell_type": "code",
   "execution_count": null,
   "id": "fca7db56",
   "metadata": {},
   "outputs": [],
   "source": []
  }
 ],
 "metadata": {
  "kernelspec": {
   "display_name": "Python 3 (ipykernel)",
   "language": "python",
   "name": "python3"
  },
  "language_info": {
   "codemirror_mode": {
    "name": "ipython",
    "version": 3
   },
   "file_extension": ".py",
   "mimetype": "text/x-python",
   "name": "python",
   "nbconvert_exporter": "python",
   "pygments_lexer": "ipython3",
   "version": "3.10.5"
  },
  "varInspector": {
   "cols": {
    "lenName": 16,
    "lenType": 16,
    "lenVar": 40
   },
   "kernels_config": {
    "python": {
     "delete_cmd_postfix": "",
     "delete_cmd_prefix": "del ",
     "library": "var_list.py",
     "varRefreshCmd": "print(var_dic_list())"
    },
    "r": {
     "delete_cmd_postfix": ") ",
     "delete_cmd_prefix": "rm(",
     "library": "var_list.r",
     "varRefreshCmd": "cat(var_dic_list()) "
    }
   },
   "types_to_exclude": [
    "module",
    "function",
    "builtin_function_or_method",
    "instance",
    "_Feature"
   ],
   "window_display": false
  }
 },
 "nbformat": 4,
 "nbformat_minor": 5
}
