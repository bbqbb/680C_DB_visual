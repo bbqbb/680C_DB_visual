{
 "cells": [
  {
   "cell_type": "code",
   "execution_count": 1,
   "id": "8cf248b3",
   "metadata": {},
   "outputs": [],
   "source": [
    "import openpyxl"
   ]
  },
  {
   "cell_type": "code",
   "execution_count": 2,
   "id": "2942fd07",
   "metadata": {},
   "outputs": [],
   "source": [
    "wb = openpyxl.load_workbook(\"T-Shirt.HD - Copy.xlsx\")\n",
    "sheet = wb['Follow-up']"
   ]
  },
  {
   "cell_type": "code",
   "execution_count": null,
   "id": "65c5ea32",
   "metadata": {},
   "outputs": [],
   "source": [
    "for row in sheet.iter_rows():\n",
    "    if not row[28].value:\n",
    "        row[28].value = \"N/A\"\n",
    "wb.save(\"T-Shirt.HD - Copy.xlsx\")"
   ]
  },
  {
   "cell_type": "raw",
   "id": "0956059a",
   "metadata": {},
   "source": [
    "sheet"
   ]
  },
  {
   "cell_type": "code",
   "execution_count": null,
   "id": "9daca691",
   "metadata": {},
   "outputs": [],
   "source": []
  }
 ],
 "metadata": {
  "kernelspec": {
   "display_name": "Python 3 (ipykernel)",
   "language": "python",
   "name": "python3"
  },
  "language_info": {
   "codemirror_mode": {
    "name": "ipython",
    "version": 3
   },
   "file_extension": ".py",
   "mimetype": "text/x-python",
   "name": "python",
   "nbconvert_exporter": "python",
   "pygments_lexer": "ipython3",
   "version": "3.10.5"
  },
  "varInspector": {
   "cols": {
    "lenName": 16,
    "lenType": 16,
    "lenVar": 40
   },
   "kernels_config": {
    "python": {
     "delete_cmd_postfix": "",
     "delete_cmd_prefix": "del ",
     "library": "var_list.py",
     "varRefreshCmd": "print(var_dic_list())"
    },
    "r": {
     "delete_cmd_postfix": ") ",
     "delete_cmd_prefix": "rm(",
     "library": "var_list.r",
     "varRefreshCmd": "cat(var_dic_list()) "
    }
   },
   "types_to_exclude": [
    "module",
    "function",
    "builtin_function_or_method",
    "instance",
    "_Feature"
   ],
   "window_display": false
  }
 },
 "nbformat": 4,
 "nbformat_minor": 5
}
