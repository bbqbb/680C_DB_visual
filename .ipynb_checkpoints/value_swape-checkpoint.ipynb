{
 "cells": [
  {
   "cell_type": "code",
   "execution_count": 1,
   "id": "20ddf49f",
   "metadata": {},
   "outputs": [],
   "source": [
    "import openpyxl"
   ]
  },
  {
   "cell_type": "code",
   "execution_count": 2,
   "id": "817d0240",
   "metadata": {},
   "outputs": [],
   "source": [
    "wb = openpyxl.load_workbook(\"T-Shirt.HD - Copy.xlsx\")\n",
    "sheet = wb['Trial-Run']"
   ]
  },
  {
   "cell_type": "code",
   "execution_count": 3,
   "id": "74e65331",
   "metadata": {},
   "outputs": [],
   "source": [
    "for row in sheet.iter_rows():\n",
    "    if row[23].value > row[24].value:\n",
    "        row[23].value, row[24].value = row[24].value, row[23].value"
   ]
  },
  {
   "cell_type": "code",
   "execution_count": 5,
   "id": "74cf7a75",
   "metadata": {},
   "outputs": [
    {
     "ename": "SyntaxError",
     "evalue": "can't use starred expression here (1115400807.py, line 3)",
     "output_type": "error",
     "traceback": [
      "\u001b[1;36m  Input \u001b[1;32mIn [5]\u001b[1;36m\u001b[0m\n\u001b[1;33m    row[23].value = * 0.001\u001b[0m\n\u001b[1;37m                    ^\u001b[0m\n\u001b[1;31mSyntaxError\u001b[0m\u001b[1;31m:\u001b[0m can't use starred expression here\n"
     ]
    }
   ],
   "source": [
    "for row in sheet.iter_rows():\n",
    "    if row[23].value > 1000:\n",
    "        row[23].value = * 0.001"
   ]
  },
  {
   "cell_type": "code",
   "execution_count": 4,
   "id": "35da447e",
   "metadata": {},
   "outputs": [],
   "source": [
    "wb.save(\"T-Shirt.HD - Copy.xlsx\")"
   ]
  },
  {
   "cell_type": "code",
   "execution_count": 5,
   "id": "b3c97745",
   "metadata": {},
   "outputs": [
    {
     "data": {
      "text/plain": [
       "6"
      ]
     },
     "execution_count": 5,
     "metadata": {},
     "output_type": "execute_result"
    }
   ],
   "source": []
  },
  {
   "cell_type": "code",
   "execution_count": null,
   "id": "dc74b548",
   "metadata": {},
   "outputs": [],
   "source": []
  }
 ],
 "metadata": {
  "kernelspec": {
   "display_name": "Python 3 (ipykernel)",
   "language": "python",
   "name": "python3"
  },
  "language_info": {
   "codemirror_mode": {
    "name": "ipython",
    "version": 3
   },
   "file_extension": ".py",
   "mimetype": "text/x-python",
   "name": "python",
   "nbconvert_exporter": "python",
   "pygments_lexer": "ipython3",
   "version": "3.10.5"
  },
  "varInspector": {
   "cols": {
    "lenName": 16,
    "lenType": 16,
    "lenVar": 40
   },
   "kernels_config": {
    "python": {
     "delete_cmd_postfix": "",
     "delete_cmd_prefix": "del ",
     "library": "var_list.py",
     "varRefreshCmd": "print(var_dic_list())"
    },
    "r": {
     "delete_cmd_postfix": ") ",
     "delete_cmd_prefix": "rm(",
     "library": "var_list.r",
     "varRefreshCmd": "cat(var_dic_list()) "
    }
   },
   "types_to_exclude": [
    "module",
    "function",
    "builtin_function_or_method",
    "instance",
    "_Feature"
   ],
   "window_display": false
  }
 },
 "nbformat": 4,
 "nbformat_minor": 5
}
