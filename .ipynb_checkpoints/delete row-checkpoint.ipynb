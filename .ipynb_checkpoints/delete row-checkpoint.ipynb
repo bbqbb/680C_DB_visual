{
 "cells": [
  {
   "cell_type": "code",
   "execution_count": 2,
   "id": "760abc99",
   "metadata": {},
   "outputs": [],
   "source": [
    "import pandas as pd\n",
    "import openpyxl\n",
    "import numpy as np"
   ]
  },
  {
   "cell_type": "code",
   "execution_count": 4,
   "id": "506d5bb1",
   "metadata": {},
   "outputs": [],
   "source": [
    "df = pd.read_excel(\"T-Shirt.HD - Copy.xlsx\", sheet_name=\"Trial-Run\")"
   ]
  },
  {
   "cell_type": "code",
   "execution_count": 103,
   "id": "b906f814",
   "metadata": {
    "scrolled": true
   },
   "outputs": [
    {
     "name": "stdout",
     "output_type": "stream",
     "text": [
      "0            WHITE\n",
      "1            WHITE\n",
      "2             BUFF\n",
      "3             BUFF\n",
      "4             BUFF\n",
      "          ...     \n",
      "703          WHITE\n",
      "704          WHITE\n",
      "705          WHITE\n",
      "706    COCOA KRAFT\n",
      "707    COCOA KRAFT\n",
      "Name: Color, Length: 708, dtype: object\n"
     ]
    }
   ],
   "source": [
    "print(df[\"Color\"])"
   ]
  },
  {
   "cell_type": "code",
   "execution_count": 8,
   "id": "fb8fc1c0",
   "metadata": {},
   "outputs": [
    {
     "name": "stdout",
     "output_type": "stream",
     "text": [
      "max row before 709\n"
     ]
    }
   ],
   "source": [
    "wb = openpyxl.load_workbook(\"T-Shirt.HD - Copy.xlsx\")\n",
    "sheet = wb['Trial-Run']\n",
    "print(\"max row before\", sheet.max_row)"
   ]
  },
  {
   "cell_type": "code",
   "execution_count": null,
   "id": "9953b2a4",
   "metadata": {},
   "outputs": [],
   "source": [
    "for row in sheet.iter_rows():\n",
    "    if not row[28].value:\n",
    "        sheet.delete_rows(row[0].row)\n",
    "wb.save(\"T-Shirt.HD - Copy.xlsx\")"
   ]
  },
  {
   "cell_type": "code",
   "execution_count": null,
   "id": "20ddbf8f",
   "metadata": {},
   "outputs": [],
   "source": [
    "for row in sheet.iter_rows():\n",
    "    if not row[28].value:\n",
    "        sheet.delete_rows(row[0].row)\n",
    "wb.save(\"T-Shirt.HD - Copy.xlsx\")"
   ]
  },
  {
   "cell_type": "code",
   "execution_count": 48,
   "id": "a818b9d9",
   "metadata": {},
   "outputs": [
    {
     "name": "stdout",
     "output_type": "stream",
     "text": [
      "The \"Trial-Run\" sheet has 740 rows.\n"
     ]
    }
   ],
   "source": [
    "num_rows = sheet.max_row\n",
    "\n",
    "print(f'The \"Trial-Run\" sheet has {num_rows} rows.')"
   ]
  },
  {
   "cell_type": "code",
   "execution_count": null,
   "id": "5e90cdaa",
   "metadata": {},
   "outputs": [],
   "source": []
  }
 ],
 "metadata": {
  "kernelspec": {
   "display_name": "Python 3 (ipykernel)",
   "language": "python",
   "name": "python3"
  },
  "language_info": {
   "codemirror_mode": {
    "name": "ipython",
    "version": 3
   },
   "file_extension": ".py",
   "mimetype": "text/x-python",
   "name": "python",
   "nbconvert_exporter": "python",
   "pygments_lexer": "ipython3",
   "version": "3.10.5"
  },
  "varInspector": {
   "cols": {
    "lenName": 16,
    "lenType": 16,
    "lenVar": 40
   },
   "kernels_config": {
    "python": {
     "delete_cmd_postfix": "",
     "delete_cmd_prefix": "del ",
     "library": "var_list.py",
     "varRefreshCmd": "print(var_dic_list())"
    },
    "r": {
     "delete_cmd_postfix": ") ",
     "delete_cmd_prefix": "rm(",
     "library": "var_list.r",
     "varRefreshCmd": "cat(var_dic_list()) "
    }
   },
   "types_to_exclude": [
    "module",
    "function",
    "builtin_function_or_method",
    "instance",
    "_Feature"
   ],
   "window_display": false
  }
 },
 "nbformat": 4,
 "nbformat_minor": 5
}
