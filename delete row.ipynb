{
 "cells": [
  {
   "cell_type": "code",
   "execution_count": 208,
   "id": "760abc99",
   "metadata": {},
   "outputs": [],
   "source": [
    "import pandas as pd\n",
    "import openpyxl\n",
    "import numpy as np"
   ]
  },
  {
   "cell_type": "code",
   "execution_count": 177,
   "id": "506d5bb1",
   "metadata": {},
   "outputs": [],
   "source": [
    "df = pd.read_excel(\"T-Shirt.HD - Copy.xlsx\", sheet_name=\"Trial-Run\")"
   ]
  },
  {
   "cell_type": "code",
   "execution_count": 103,
   "id": "b906f814",
   "metadata": {},
   "outputs": [
    {
     "name": "stdout",
     "output_type": "stream",
     "text": [
      "0            WHITE\n",
      "1            WHITE\n",
      "2             BUFF\n",
      "3             BUFF\n",
      "4             BUFF\n",
      "          ...     \n",
      "703          WHITE\n",
      "704          WHITE\n",
      "705          WHITE\n",
      "706    COCOA KRAFT\n",
      "707    COCOA KRAFT\n",
      "Name: Color, Length: 708, dtype: object\n"
     ]
    }
   ],
   "source": [
    "print(df[\"Color\"])"
   ]
  },
  {
   "cell_type": "code",
   "execution_count": 52,
   "id": "fb8fc1c0",
   "metadata": {},
   "outputs": [
    {
     "name": "stdout",
     "output_type": "stream",
     "text": [
      "max row before 712\n"
     ]
    }
   ],
   "source": [
    "wb = openpyxl.load_workbook(\"T-Shirt.HD - Copy.xlsx\")\n",
    "sheet = wb['Trial-Run']\n",
    "print(\"max row before\", sheet.max_row)\n",
    "for row in sheet.iter_rows():\n",
    "    if not row[28].value:\n",
    "        sheet.delete_rows(row[0].row)\n",
    "wb.save(\"T-Shirt.HD - Copy.xlsx\")"
   ]
  },
  {
   "cell_type": "code",
   "execution_count": 48,
   "id": "a818b9d9",
   "metadata": {},
   "outputs": [
    {
     "name": "stdout",
     "output_type": "stream",
     "text": [
      "The \"Trial-Run\" sheet has 740 rows.\n"
     ]
    }
   ],
   "source": [
    "num_rows = sheet.max_row\n",
    "\n",
    "print(f'The \"Trial-Run\" sheet has {num_rows} rows.')"
   ]
  },
  {
   "cell_type": "code",
   "execution_count": 61,
   "id": "b3da8af2",
   "metadata": {},
   "outputs": [
    {
     "name": "stdout",
     "output_type": "stream",
     "text": [
      "max row before 709\n"
     ]
    }
   ],
   "source": [
    "wb = openpyxl.load_workbook(\"T-Shirt.HD - Copy.xlsx\")\n",
    "sheet = wb['Trial-Run']\n",
    "print(\"max row before\", sheet.max_row)\n",
    "for row in sheet.iter_rows():\n",
    "    date = str(row[1].value)\n",
    "    date = date.split(\".\")\n",
    "    if len(date) > 3:\n",
    "        date_str = f\"{date[0]}.{date[1]}.{date[2]}\"\n",
    "        row[1].value = date_str\n",
    "wb.save(\"T-Shirt.HD - Copy.xlsx\")"
   ]
  },
  {
   "cell_type": "code",
   "execution_count": 60,
   "id": "9abdd5ad",
   "metadata": {},
   "outputs": [
    {
     "data": {
      "text/plain": [
       "'09.21.17'"
      ]
     },
     "execution_count": 60,
     "metadata": {},
     "output_type": "execute_result"
    }
   ],
   "source": [
    "date = \"09.21.2017.1\"\n",
    "date = date.split(\".\")\n",
    "date_str = f\"{date[0]}.{date[1]}.{date[2][-2:]}\"\n",
    "date_str"
   ]
  },
  {
   "cell_type": "code",
   "execution_count": 68,
   "id": "4ba32d83",
   "metadata": {},
   "outputs": [
    {
     "data": {
      "text/plain": [
       "Timestamp('2011-04-11 00:00:00')"
      ]
     },
     "execution_count": 68,
     "metadata": {},
     "output_type": "execute_result"
    }
   ],
   "source": [
    "data.Date.min()"
   ]
  },
  {
   "cell_type": "code",
   "execution_count": 90,
   "id": "1fc29dec",
   "metadata": {},
   "outputs": [],
   "source": [
    "data = pd.read_excel(\"T-Shirt.HD - Copy.xlsx\", sheet_name=\"Trial-Run\")\n",
    "data['Date'] = pd.to_datetime(data['Date'], format=\"%m.%d.%Y\", errors='coerce')\n",
    "data.sort_values(\"Date\", inplace=True)\n",
    "start_date = '2013-04-11 00:00:00'\n",
    "end_date = data.Date.max()\n",
    "mask = (data.Date >= start_date) & (data.Date <= end_date)\n",
    "filter_data = data.loc[mask]"
   ]
  },
  {
   "cell_type": "code",
   "execution_count": 92,
   "id": "ba726e44",
   "metadata": {},
   "outputs": [
    {
     "data": {
      "text/plain": [
       "61    2013-04-24\n",
       "64    2013-04-24\n",
       "63    2013-04-24\n",
       "62    2013-04-24\n",
       "60    2013-04-24\n",
       "         ...    \n",
       "701   2021-08-19\n",
       "702   2021-08-19\n",
       "705   2021-08-19\n",
       "706   2021-09-08\n",
       "707   2021-09-08\n",
       "Name: Date, Length: 654, dtype: datetime64[ns]"
      ]
     },
     "execution_count": 92,
     "metadata": {},
     "output_type": "execute_result"
    }
   ],
   "source": [
    "filter_data[\"Date\"]"
   ]
  },
  {
   "cell_type": "code",
   "execution_count": 93,
   "id": "6fbe9c45",
   "metadata": {},
   "outputs": [
    {
     "data": {
      "text/plain": [
       "61       7.50\n",
       "64       7.32\n",
       "63       7.62\n",
       "62       5.60\n",
       "60       5.79\n",
       "        ...  \n",
       "701     11.00\n",
       "702     11.00\n",
       "705     16.00\n",
       "706    764.00\n",
       "707    792.00\n",
       "Name: md_tear, Length: 654, dtype: float64"
      ]
     },
     "execution_count": 93,
     "metadata": {},
     "output_type": "execute_result"
    }
   ],
   "source": [
    "filter_data[\"md_tear\"]"
   ]
  },
  {
   "cell_type": "code",
   "execution_count": null,
   "id": "5e90cdaa",
   "metadata": {},
   "outputs": [],
   "source": []
  },
  {
   "cell_type": "code",
   "execution_count": 183,
   "id": "8e8a012c",
   "metadata": {},
   "outputs": [],
   "source": [
    "def fraction_to_decimal(fraction_str):\n",
    "    if type(fraction_str) == str:\n",
    "        _ = fraction_str.split(\" \")\n",
    "        whole, frac = _[0], _[2]\n",
    "        frac_num, frac_denom = frac.split('/')\n",
    "        return int(whole) + int(frac_num) / int(frac_denom)\n",
    "    elif type(fraction_str) == float or type(fraction_str) == int:\n",
    "        return fraction_str\n",
    "    else:\n",
    "        return 0"
   ]
  },
  {
   "cell_type": "code",
   "execution_count": 174,
   "id": "6d4d8365",
   "metadata": {},
   "outputs": [],
   "source": [
    "def fraction_type(fraction_str):\n",
    "    if type(fraction_str) != float and type(fraction_str) != int:\n",
    "        print(type(fraction_str))"
   ]
  },
  {
   "cell_type": "code",
   "execution_count": 202,
   "id": "92adfdc0",
   "metadata": {},
   "outputs": [
    {
     "data": {
      "text/plain": [
       "0      18.0625\n",
       "1      18.5000\n",
       "2      57.1875\n",
       "3      57.1875\n",
       "4      57.1250\n",
       "        ...   \n",
       "703    54.1250\n",
       "704    54.1875\n",
       "705    54.2500\n",
       "706    56.5000\n",
       "707    56.5000\n",
       "Name: Layflat, Length: 708, dtype: float64"
      ]
     },
     "execution_count": 202,
     "metadata": {},
     "output_type": "execute_result"
    }
   ],
   "source": [
    "decimal = df['Layflat'].apply(fraction_to_decimal)\n",
    "decimal"
   ]
  },
  {
   "cell_type": "code",
   "execution_count": 194,
   "id": "37a8f88b",
   "metadata": {},
   "outputs": [
    {
     "data": {
      "text/plain": [
       "2      57.1875\n",
       "3      57.1875\n",
       "4      57.1250\n",
       "5      57.0000\n",
       "6      57.2500\n",
       "        ...   \n",
       "703    54.1250\n",
       "704    54.1875\n",
       "705    54.2500\n",
       "706    56.5000\n",
       "707    56.5000\n",
       "Name: Layflat, Length: 648, dtype: float64"
      ]
     },
     "execution_count": 194,
     "metadata": {},
     "output_type": "execute_result"
    }
   ],
   "source": [
    "mask = (decimal >= 40) & (decimal <= 60)\n",
    "filter_lf = decimal.loc[mask]    \n",
    "filter_lf"
   ]
  },
  {
   "cell_type": "code",
   "execution_count": null,
   "id": "e0df6f73",
   "metadata": {},
   "outputs": [],
   "source": []
  }
 ],
 "metadata": {
  "kernelspec": {
   "display_name": "Python 3 (ipykernel)",
   "language": "python",
   "name": "python3"
  },
  "language_info": {
   "codemirror_mode": {
    "name": "ipython",
    "version": 3
   },
   "file_extension": ".py",
   "mimetype": "text/x-python",
   "name": "python",
   "nbconvert_exporter": "python",
   "pygments_lexer": "ipython3",
   "version": "3.10.5"
  },
  "varInspector": {
   "cols": {
    "lenName": 16,
    "lenType": 16,
    "lenVar": 40
   },
   "kernels_config": {
    "python": {
     "delete_cmd_postfix": "",
     "delete_cmd_prefix": "del ",
     "library": "var_list.py",
     "varRefreshCmd": "print(var_dic_list())"
    },
    "r": {
     "delete_cmd_postfix": ") ",
     "delete_cmd_prefix": "rm(",
     "library": "var_list.r",
     "varRefreshCmd": "cat(var_dic_list()) "
    }
   },
   "types_to_exclude": [
    "module",
    "function",
    "builtin_function_or_method",
    "instance",
    "_Feature"
   ],
   "window_display": false
  }
 },
 "nbformat": 4,
 "nbformat_minor": 5
}
